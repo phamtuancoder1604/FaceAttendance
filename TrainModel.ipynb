{
 "cells": [
  {
   "cell_type": "code",
   "execution_count": 6,
   "id": "bfdaa123-7be0-451c-af16-932754b8c805",
   "metadata": {},
   "outputs": [
    {
     "name": "stdout",
     "output_type": "stream",
     "text": [
      "Bắt đầu train lại model nhận diện khuôn mặt...\n",
      "Fitting 3 folds for each of 81 candidates, totalling 243 fits\n",
      "Đã train xong! File model đã được lưu (ml_face_person_identity.pkl)\n"
     ]
    }
   ],
   "source": [
    "from face_utils import Face\n",
    "\n",
    "if __name__ == \"__main__\":\n",
    "    print(\"Bắt đầu train lại model nhận diện khuôn mặt...\")\n",
    "    face = Face()\n",
    "    face.data()   # Trích xuất đặc trưng khuôn mặt và lưu lại (Results.pickle)\n",
    "    face.model()  # Train lại model, lưu ml_face_person_identity.pkl\n",
    "    print(\"Đã train xong! File model đã được lưu (ml_face_person_identity.pkl)\")\n"
   ]
  }
 ],
 "metadata": {
  "kernelspec": {
   "display_name": "Python 3 (ipykernel)",
   "language": "python",
   "name": "python3"
  },
  "language_info": {
   "codemirror_mode": {
    "name": "ipython",
    "version": 3
   },
   "file_extension": ".py",
   "mimetype": "text/x-python",
   "name": "python",
   "nbconvert_exporter": "python",
   "pygments_lexer": "ipython3",
   "version": "3.12.7"
  }
 },
 "nbformat": 4,
 "nbformat_minor": 5
}
